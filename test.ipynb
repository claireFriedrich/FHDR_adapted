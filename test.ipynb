{
 "cells": [
  {
   "cell_type": "code",
   "execution_count": null,
   "metadata": {},
   "outputs": [],
   "source": [
    "import numpy as np\n",
    "import matplotlib.pyplot as plt\n",
    "\n",
    "losses = [10.182610511779785, 10.21350383758545, 10.14052677154541, 10.09352970123291, 10.078177452087402, 10.138131141662598, 9.808538436889648, 9.616585731506348, 9.359366416931152]\n",
    "\n",
    "plt.figure()\n",
    "plt.plot(np.linspace(1, 9, num=9), losses)\n",
    "plt.show()"
   ]
  }
 ],
 "metadata": {
  "language_info": {
   "name": "python"
  }
 },
 "nbformat": 4,
 "nbformat_minor": 2
}
