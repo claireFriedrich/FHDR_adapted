{
 "cells": [
  {
   "cell_type": "code",
   "execution_count": 2,
   "metadata": {},
   "outputs": [
    {
     "ename": "ModuleNotFoundError",
     "evalue": "No module named 'numpy'",
     "output_type": "error",
     "traceback": [
      "\u001b[1;31m---------------------------------------------------------------------------\u001b[0m",
      "\u001b[1;31mModuleNotFoundError\u001b[0m                       Traceback (most recent call last)",
      "\u001b[1;32mc:\\Users\\fricl\\OneDrive\\Documents\\Suisse\\EPFL\\Cours\\MA1\\ML\\FHDR_adapted\\test.ipynb Cell 1\u001b[0m line \u001b[0;36m1\n\u001b[1;32m----> <a href='vscode-notebook-cell:/c%3A/Users/fricl/OneDrive/Documents/Suisse/EPFL/Cours/MA1/ML/FHDR_adapted/test.ipynb#W0sZmlsZQ%3D%3D?line=0'>1</a>\u001b[0m \u001b[39mimport\u001b[39;00m \u001b[39mnumpy\u001b[39;00m \u001b[39mas\u001b[39;00m \u001b[39mnp\u001b[39;00m\n\u001b[0;32m      <a href='vscode-notebook-cell:/c%3A/Users/fricl/OneDrive/Documents/Suisse/EPFL/Cours/MA1/ML/FHDR_adapted/test.ipynb#W0sZmlsZQ%3D%3D?line=1'>2</a>\u001b[0m \u001b[39mimport\u001b[39;00m \u001b[39mmatplotlib\u001b[39;00m\u001b[39m.\u001b[39;00m\u001b[39mpyplot\u001b[39;00m \u001b[39mas\u001b[39;00m \u001b[39mplt\u001b[39;00m\n\u001b[0;32m      <a href='vscode-notebook-cell:/c%3A/Users/fricl/OneDrive/Documents/Suisse/EPFL/Cours/MA1/ML/FHDR_adapted/test.ipynb#W0sZmlsZQ%3D%3D?line=3'>4</a>\u001b[0m losses \u001b[39m=\u001b[39m [\u001b[39m10.182610511779785\u001b[39m, \u001b[39m10.21350383758545\u001b[39m, \u001b[39m10.14052677154541\u001b[39m, \u001b[39m10.09352970123291\u001b[39m, \u001b[39m10.078177452087402\u001b[39m, \u001b[39m10.138131141662598\u001b[39m, \u001b[39m9.808538436889648\u001b[39m, \u001b[39m9.616585731506348\u001b[39m, \u001b[39m9.359366416931152\u001b[39m]\n",
      "\u001b[1;31mModuleNotFoundError\u001b[0m: No module named 'numpy'"
     ]
    }
   ],
   "source": [
    "import numpy as np\n",
    "import matplotlib.pyplot as plt\n",
    "\n",
    "losses = [10.182610511779785, 10.21350383758545, 10.14052677154541, 10.09352970123291, 10.078177452087402, 10.138131141662598, 9.808538436889648, 9.616585731506348, 9.359366416931152]\n",
    "\n",
    "plt.figure()\n",
    "plt.plot(np.linspace(1, 9, num=9), losses)\n",
    "plt.show()"
   ]
  }
 ],
 "metadata": {
  "kernelspec": {
   "display_name": "FHDR",
   "language": "python",
   "name": "python3"
  },
  "language_info": {
   "codemirror_mode": {
    "name": "ipython",
    "version": 3
   },
   "file_extension": ".py",
   "mimetype": "text/x-python",
   "name": "python",
   "nbconvert_exporter": "python",
   "pygments_lexer": "ipython3",
   "version": "3.11.5"
  }
 },
 "nbformat": 4,
 "nbformat_minor": 2
}
