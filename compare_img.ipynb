{
 "cells": [
  {
   "cell_type": "code",
   "execution_count": 18,
   "metadata": {},
   "outputs": [],
   "source": [
    "import cv2\n",
    "import numpy as np"
   ]
  },
  {
   "cell_type": "code",
   "execution_count": 22,
   "metadata": {},
   "outputs": [],
   "source": [
    "def rgb_2_yuv(rgb):\n",
    "    rgb_xyz = np.array([[0.4124, 0.3576, 0.1805],\n",
    "                        [0.2126, 0.7152, 0.0722],\n",
    "                        [0.0193, 0.1192, 0.9505]])\n",
    "    print(rgb_xyz.shape)\n",
    "    xyz = np.einsum('ij,jk->ik', rgb_xyz, rgb)\n",
    "\n",
    "    d = xyz[0] + 15 * xyz[1] + 3 * xyz[2]\n",
    "    u = 4 * xyz[0] / d\n",
    "    v = 9 * xyz[1] / d\n",
    "    return np.stack((xyz[1], u, v))\n",
    "\n",
    "\n",
    "def color_diff_yuv(ref, test):\n",
    "    Auv = rgb_2_yuv(ref)\n",
    "    A2uv = rgb_2_yuv(test)\n",
    "    duv = A2uv[1:] - Auv[1:]\n",
    "    # color difference (as jnd)\n",
    "    duv2 = np.sqrt(np.sum(np.square(duv), axis=0)) / 0.077\n",
    "    # relative luminance difference\n",
    "    alum = np.average((A2uv[0], Auv[0]), axis=0)\n",
    "    mask = alum > 0\n",
    "    dl = A2uv[0] - Auv[0]\n",
    "    # as jnd\n",
    "    dl[mask] = dl[mask]/alum[mask] / 0.003\n",
    "\n",
    "    # Relative Luminance Difference (dl) + Chrominance Difference (duv2) + Final Color Difference Metric\n",
    "    return np.sqrt(np.sum(np.stack((dl, duv2)), axis=0))"
   ]
  },
  {
   "cell_type": "code",
   "execution_count": 44,
   "metadata": {},
   "outputs": [],
   "source": [
    "ref_path = \"gt_hdr_b_1_1.hdr\"\n",
    "test_path = \"generated_hdr_b_1_1.hdr\""
   ]
  },
  {
   "cell_type": "code",
   "execution_count": 45,
   "metadata": {},
   "outputs": [
    {
     "name": "stdout",
     "output_type": "stream",
     "text": [
      "(3276800, 3)\n"
     ]
    }
   ],
   "source": [
    "# IMREAD_ANYDEPTH is needed because even though the data is stored in 8-bit channels\n",
    "# when it's read into memory it's represented at a higher bit depth\n",
    "img_ref = cv2.imread(ref_path, flags=cv2.IMREAD_ANYDEPTH)\n",
    "h, w, channels = img_ref.shape\n",
    "img_ref = img_ref.reshape(h*w, channels)\n",
    "print(img_ref.shape)"
   ]
  },
  {
   "cell_type": "code",
   "execution_count": 46,
   "metadata": {},
   "outputs": [
    {
     "name": "stdout",
     "output_type": "stream",
     "text": [
      "(1280, 2560, 3)\n",
      "(3276800, 3)\n"
     ]
    }
   ],
   "source": [
    "img_test = cv2.imread(test_path, flags=cv2.IMREAD_ANYDEPTH)\n",
    "print(img_test.shape)\n",
    "h, w, channels = img_test.shape\n",
    "img_test = img_test.reshape(h*w, channels)\n",
    "print(img_test.shape)"
   ]
  },
  {
   "cell_type": "markdown",
   "metadata": {},
   "source": [
    "In summary, the return value represents a comprehensive color difference metric that considers both luminance and chrominance components for assessing the perceptual dissimilarity between two RGB images."
   ]
  },
  {
   "cell_type": "code",
   "execution_count": 47,
   "metadata": {},
   "outputs": [
    {
     "name": "stdout",
     "output_type": "stream",
     "text": [
      "(3, 3)\n",
      "(3, 3)\n"
     ]
    },
    {
     "data": {
      "text/plain": [
       "array([24.6808409 , 24.7797112 , 24.72708538])"
      ]
     },
     "execution_count": 47,
     "metadata": {},
     "output_type": "execute_result"
    }
   ],
   "source": [
    "value = color_diff_yuv(img_ref, img_test)\n",
    "value"
   ]
  }
 ],
 "metadata": {
  "kernelspec": {
   "display_name": "FHDR",
   "language": "python",
   "name": "python3"
  },
  "language_info": {
   "codemirror_mode": {
    "name": "ipython",
    "version": 3
   },
   "file_extension": ".py",
   "mimetype": "text/x-python",
   "name": "python",
   "nbconvert_exporter": "python",
   "pygments_lexer": "ipython3",
   "version": "3.9.18"
  }
 },
 "nbformat": 4,
 "nbformat_minor": 2
}
